{
 "cells": [
  {
   "cell_type": "code",
   "execution_count": 1,
   "metadata": {},
   "outputs": [],
   "source": [
    "from textblob import TextBlob\n",
    "import random"
   ]
  },
  {
   "cell_type": "code",
   "execution_count": 6,
   "metadata": {},
   "outputs": [
    {
     "name": "stdout",
     "output_type": "stream",
     "text": [
      "Eaê guerreiro qual é o seu nome?\n",
      "Você tem um apelido elen. Sim ou Não?\n"
     ]
    }
   ],
   "source": [
    "print(\"Eaê guerreiro qual é o seu nome?\")\n",
    "nome = input()\n",
    "print(\"Você tem um apelido \" + nome +\". Sim ou Não?\")\n",
    "resp = input()"
   ]
  },
  {
   "cell_type": "code",
   "execution_count": 12,
   "metadata": {},
   "outputs": [
    {
     "name": "stdout",
     "output_type": "stream",
     "text": [
      "hummm ....\n",
      "Posso chamar você de Cyclope?\n",
      "Ok Cyclope bom te conhecer!\n"
     ]
    }
   ],
   "source": [
    "if resp.lower() == 'sim' or resp.lower() == 's':\n",
    "    print(\"Qual seu apelido ?\")\n",
    "    cod_nome = input()\n",
    "    print(\"Bom conhecer você \" + cod_nome + \"!\")\n",
    "\n",
    "else:\n",
    "    cod_nome =\"Cyclope\"\n",
    "    print(\"hummm ....\\nPosso chamar você de \"+ cod_nome + \"?\")\n",
    "    resposta = input()\n",
    "    if resposta.lower() == \"sim\":\n",
    "         print(\"Ok, \"+ cod_nome + \" bom te conhecer!\")\n",
    "    else:\n",
    "        cod_nome = nome\n",
    "        print(\"Ok, \"+ cod_nome + \" bom te conhecer!\")"
   ]
  },
  {
   "cell_type": "code",
   "execution_count": 71,
   "metadata": {},
   "outputs": [],
   "source": [
    "def traduz_resposta(resp):\n",
    "    blob = TextBlob(resp)\n",
    "    traducao = blob.translate(from_lang='pt',to='en')\n",
    "    return traducao"
   ]
  },
  {
   "cell_type": "code",
   "execution_count": 89,
   "metadata": {},
   "outputs": [
    {
     "name": "stdout",
     "output_type": "stream",
     "text": [
      "Cyclope. Como posso ajudar você ?\n",
      "I don't know about algebra\n",
      "Sentiment(polarity=0.0, subjectivity=0.0)\n"
     ]
    }
   ],
   "source": [
    "\n",
    "questoes = [\n",
    "    cod_nome + \". Como posso ajudar você ?\",\n",
    "    \"Meu amigo \"+ cod_nome +\" em que posso ajudar você?\",\n",
    "    \"Grande humano\" + cod_nome+\", você está precisando de ajuda?\",\n",
    "    \"Como posso ser útil meu grande amigo \" +cod_nome+\" ?\"\n",
    "]\n",
    "\n",
    "print(random.choice(questoes))\n",
    "\n",
    "resp = input()\n",
    "resp_trad = traduz_resposta(resp)\n",
    "print(resp_trad)\n",
    "sent = resp_trad.sentiment\n",
    "print(sent)\n",
    "\n"
   ]
  },
  {
   "cell_type": "markdown",
   "metadata": {},
   "source": [
    "#Pergunta\n",
    "print(\"Como está seu dia hoje?\")\n",
    "resposta = input()\n",
    "blob = TextBlob(resposta)"
   ]
  },
  {
   "cell_type": "code",
   "execution_count": 90,
   "metadata": {},
   "outputs": [
    {
     "name": "stdout",
     "output_type": "stream",
     "text": [
      "Vamos resolver esse problema Cyclope. Me fale mais sobre isto.\n",
      "Me diga qual série está cursando?\n",
      "OK. vamos identificar sua dificuldade.\n"
     ]
    }
   ],
   "source": [
    "if resp_trad.polarity > 0:\n",
    "    print(\"Wooou...Estais ávido por conhecimento meu amigo \"+ cod_nome)\n",
    "\n",
    "    print(\"Sobre o que falaremos \"+ cod_nome + \"?\")\n",
    "\n",
    "else:\n",
    "    print(\"Vamos resolver esse problema \"+ cod_nome + \". Me fale mais sobre isto.\")\n",
    "    print(\"Me diga qual série está cursando?\")\n",
    "    serie = input()\n",
    "    print(\"OK.Qual assunto está sua dificuldade ?\")\n",
    "    topico=input()\n",
    "    "
   ]
  },
  {
   "cell_type": "code",
   "execution_count": 105,
   "metadata": {},
   "outputs": [],
   "source": [
    "topicos = [\n",
    "    \"Números\",\n",
    "    \"Algebra\",\n",
    "    'Geometria',\n",
    "    \"Grandezas e Medidas\",\n",
    "    \"Probabilidade e Estatistica\"\n",
    "]\n",
    "numeros_ano5 = [\n",
    "    \"decimais\",\n",
    "    \"Frações\",\n",
    "    'Porcentagem',\n",
    "    \"Soma e Subtração\",\n",
    "    \"Multiplicação e Divisão\",\n",
    "    \"Multiplicação e Divisão de Frações\"\n",
    "]\n",
    "\n",
    "algebra_ano5 = [\n",
    "    \"Relação de igualdade\",\n",
    "    \"Razão\",\n",
    "    \"Proporção\"\n",
    "]\n",
    "\n",
    "geometria_ano5 = [\n",
    "    \"Formas\",\n",
    "    \"Area da superficie\",\n",
    "    \"Angulos\",\n",
    "    \"Triangulos\",\n",
    "    \"Classificação de forma geometrica\",\n",
    "    \"Congruencia de angulos\"\n",
    "]\n",
    "\n",
    "grandezas_ano5 = [\n",
    "    \"Massa e volume\",\n",
    "    \"Comprimento\",\n",
    "    \"Tempo\",\n",
    "    \"Area\",\n",
    "    \"Perimetro\",\n",
    "    \"Cubos\"\n",
    "]\n",
    "\n",
    "prob_estat_ano5 = [\n",
    "    \"Gráficos\",\n",
    "    \"Eventos\",\n",
    "    \"Pesquisas\"\n",
    "]\n",
    "\n",
    "\n",
    "question = [\n",
    "    \"Qual sua curiosidade sobre \",\n",
    "    \"Você gosta de \",\n",
    "    cod_nome+ \" voce conhece sobre \",\n",
    "    \"Que tal falarmos sobre \"\n",
    "\n",
    "]\n",
    "\n",
    "duvidas = [\n",
    "    cod_nome+ \" tens dificuldade em \",\n",
    "    cod_nome+ \" sua dificuldade é sobre \",\n",
    "    \"Sua dificuldade é em \",\n",
    "    cod_nome +\" o tema que está te aterrorizando é \",\n",
    "    \"O que te causa aflição é \"\n",
    "]\n"
   ]
  },
  {
   "cell_type": "code",
   "execution_count": 107,
   "metadata": {},
   "outputs": [
    {
     "name": "stdout",
     "output_type": "stream",
     "text": [
      "Cyclope tens dificuldade em Probabilidade e Estatistica ?\n",
      "Beleza! Temos um ponto de partida.\n",
      "Probabilidade e Estatistica\n"
     ]
    }
   ],
   "source": [
    "for i in range(0,5):\n",
    "    topico = random.choice(topicos)\n",
    "    topicos.remove(topico)\n",
    "    duvida = random.choice(duvidas)\n",
    "    duvidas.remove(duvida)\n",
    "    print(duvida + topico + \" ?\")\n",
    "    resp = input()\n",
    "    if resp == \"sim\":\n",
    "        tema =  topico\n",
    "        print(\"Beleza! Temos um ponto de partida.\")\n",
    "        break\n",
    "    else:\n",
    "        continue\n",
    "print(tema)\n"
   ]
  },
  {
   "cell_type": "code",
   "execution_count": 108,
   "metadata": {},
   "outputs": [],
   "source": [
    "if tema == \"Números\":\n",
    "    assuntos = numeros_ano5\n",
    "elif tema == \"Algebra\":\n",
    "    assuntos = algebra_ano5\n",
    "elif tema == \"Geometria\":\n",
    "    assuntos = geometria_ano5\n",
    "elif tema == \"Grandezas e Medidas\":\n",
    "    assuntos = grandezas_ano5\n",
    "else:\n",
    "    assuntos = prob_estat_ano5"
   ]
  },
  {
   "cell_type": "code",
   "execution_count": 109,
   "metadata": {},
   "outputs": [
    {
     "name": "stdout",
     "output_type": "stream",
     "text": [
      "Cyclope voce conhece sobre Eventos ?\n",
      "a little\n",
      "Sentiment(polarity=-0.1875, subjectivity=0.5)\n",
      "Poxa!Cyclope não curte Eventos\n",
      "Então vamos ficar em silecio sobre Eventos\n",
      "Você gosta de Gráficos ?\n",
      "Yes, a lot\n",
      "Sentiment(polarity=0.0, subjectivity=0.0)\n",
      "Poxa!Cyclope não curte Gráficos\n",
      "Podemos falar sobre outro tema\n"
     ]
    }
   ],
   "source": [
    "for i in range(0,2):\n",
    "    topico = random.choice(assuntos)\n",
    "    assuntos.remove(topico)\n",
    "    quest = random.choice(question)\n",
    "    question.remove(quest)\n",
    "    print(quest + topico + \" ?\")\n",
    "\n",
    "    resp = input()\n",
    "    blob = TextBlob(resp)\n",
    "    traducao = blob.translate(from_lang='pt',to='en')\n",
    "    print(traducao)\n",
    "    blob2 = traducao.sentiment\n",
    "    print(blob2)\n",
    "\n",
    "    if blob2.polarity > 0:\n",
    "        print(\"Wooou!\" + cod_nome +\" Você ama mesmo \"+ topico)\n",
    "    else :\n",
    "        print(\"Poxa!\" + cod_nome +\" não curte \"+ topico)\n",
    "\n",
    "    if blob2.subjectivity > 0.5:\n",
    "        print('Então vamos ficar em silecio')\n",
    "    if blob2.subjectivity > 0.0:\n",
    "        print('Então vamos ficar em silecio sobre ' + topico)\n",
    "    else:\n",
    "   \n",
    "        print(\"Podemos falar sobre outro tema\")\n"
   ]
  },
  {
   "cell_type": "code",
   "execution_count": 38,
   "metadata": {},
   "outputs": [
    {
     "name": "stdout",
     "output_type": "stream",
     "text": [
      "Cyclope tens dificuldade em Geometria ?\n"
     ]
    }
   ],
   "source": [
    "topico = random.choice(topicos)\n",
    "quest = random.choice(question)\n",
    "print(quest + topico + \" ?\")"
   ]
  }
 ],
 "metadata": {
  "interpreter": {
   "hash": "1632e2ff46af55249cd5fd66d1abca92825625e5a09d68756c5f6be6bda9c5d6"
  },
  "kernelspec": {
   "display_name": "Python 3.8.5 64-bit",
   "name": "python3"
  },
  "language_info": {
   "codemirror_mode": {
    "name": "ipython",
    "version": 3
   },
   "file_extension": ".py",
   "mimetype": "text/x-python",
   "name": "python",
   "nbconvert_exporter": "python",
   "pygments_lexer": "ipython3",
   "version": "3.8.5"
  },
  "orig_nbformat": 4
 },
 "nbformat": 4,
 "nbformat_minor": 2
}
