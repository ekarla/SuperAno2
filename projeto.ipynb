{
 "cells": [
  {
   "cell_type": "code",
   "execution_count": 1,
   "source": [
    "from textblob import TextBlob\r\n",
    "import random"
   ],
   "outputs": [],
   "metadata": {}
  },
  {
   "cell_type": "code",
   "execution_count": 6,
   "source": [
    "print(\"Eaê guerreiro qual é o seu nome?\")\r\n",
    "nome = input()\r\n",
    "print(\"Você tem um apelido \" + nome +\". Sim ou Não?\")\r\n",
    "resp = input()"
   ],
   "outputs": [
    {
     "output_type": "stream",
     "name": "stdout",
     "text": [
      "Eaê guerreiro qual é o seu nome?\n",
      "Você tem um apelido elen. Sim ou Não?\n"
     ]
    }
   ],
   "metadata": {}
  },
  {
   "cell_type": "code",
   "execution_count": 12,
   "source": [
    "if resp.lower() == 'sim' or resp.lower() == 's':\r\n",
    "    print(\"Qual seu apelido ?\")\r\n",
    "    cod_nome = input()\r\n",
    "    print(\"Bom conhecer você \" + cod_nome + \"!\")\r\n",
    "\r\n",
    "else:\r\n",
    "    cod_nome =\"Cyclope\"\r\n",
    "    print(\"hummm ....\\nPosso chamar você de \"+ cod_nome + \"?\")\r\n",
    "    resposta = input()\r\n",
    "    if resposta.lower() == \"sim\":\r\n",
    "         print(\"Ok, \"+ cod_nome + \" bom te conhecer!\")\r\n",
    "    else:\r\n",
    "        cod_nome = nome\r\n",
    "        print(\"Ok, \"+ cod_nome + \" bom te conhecer!\")"
   ],
   "outputs": [
    {
     "output_type": "stream",
     "name": "stdout",
     "text": [
      "hummm ....\n",
      "Posso chamar você de Cyclope?\n",
      "Ok Cyclope bom te conhecer!\n"
     ]
    }
   ],
   "metadata": {}
  },
  {
   "cell_type": "code",
   "execution_count": 71,
   "source": [
    "def traduz_resposta(resp):\r\n",
    "    blob = TextBlob(resp)\r\n",
    "    traducao = blob.translate(from_lang='pt',to='en')\r\n",
    "    return traducao"
   ],
   "outputs": [],
   "metadata": {}
  },
  {
   "cell_type": "code",
   "execution_count": 89,
   "source": [
    "\r\n",
    "questoes = [\r\n",
    "    cod_nome + \". Como posso ajudar você ?\",\r\n",
    "    \"Meu amigo \"+ cod_nome +\" em que posso ajudar você?\",\r\n",
    "    \"Grande humano\" + cod_nome+\", você está precisando de ajuda?\",\r\n",
    "    \"Como posso ser útil meu grande amigo \" +cod_nome+\" ?\"\r\n",
    "]\r\n",
    "\r\n",
    "print(random.choice(questoes))\r\n",
    "\r\n",
    "resp = input()\r\n",
    "resp_trad = traduz_resposta(resp)\r\n",
    "print(resp_trad)\r\n",
    "sent = resp_trad.sentiment\r\n",
    "print(sent)\r\n",
    "\r\n"
   ],
   "outputs": [
    {
     "output_type": "stream",
     "name": "stdout",
     "text": [
      "Cyclope. Como posso ajudar você ?\n",
      "I don't know about algebra\n",
      "Sentiment(polarity=0.0, subjectivity=0.0)\n"
     ]
    }
   ],
   "metadata": {}
  },
  {
   "cell_type": "markdown",
   "source": [
    "#Pergunta\r\n",
    "print(\"Como está seu dia hoje?\")\r\n",
    "resposta = input()\r\n",
    "blob = TextBlob(resposta)"
   ],
   "metadata": {}
  },
  {
   "cell_type": "code",
   "execution_count": 90,
   "source": [
    "if resp_trad.polarity > 0:\r\n",
    "    print(\"Wooou...Estais ávido por conhecimento meu amigo \"+ cod_nome)\r\n",
    "\r\n",
    "    print(\"Sobre o que falaremos \"+ cod_nome + \"?\")\r\n",
    "\r\n",
    "else:\r\n",
    "    print(\"Vamos resolver esse problema \"+ cod_nome + \". Me fale mais sobre isto.\")\r\n",
    "    print(\"Me diga qual série está cursando?\")\r\n",
    "    serie = input()\r\n",
    "    print(\"OK.Qual assunto está sua dificuldade ?\")\r\n",
    "    topico=input()\r\n",
    "    "
   ],
   "outputs": [
    {
     "output_type": "stream",
     "name": "stdout",
     "text": [
      "Vamos resolver esse problema Cyclope. Me fale mais sobre isto.\n",
      "Me diga qual série está cursando?\n",
      "OK. vamos identificar sua dificuldade.\n"
     ]
    }
   ],
   "metadata": {}
  },
  {
   "cell_type": "code",
   "execution_count": 105,
   "source": [
    "topicos = [\r\n",
    "    \"Números\",\r\n",
    "    \"Algebra\",\r\n",
    "    'Geometria',\r\n",
    "    \"Grandezas e Medidas\",\r\n",
    "    \"Probabilidade e Estatistica\"\r\n",
    "]\r\n",
    "numeros_ano5 = [\r\n",
    "    \"decimais\",\r\n",
    "    \"Frações\",\r\n",
    "    'Porcentagem',\r\n",
    "    \"Soma e Subtração\",\r\n",
    "    \"Multiplicação e Divisão\",\r\n",
    "    \"Multiplicação e Divisão de Frações\"\r\n",
    "]\r\n",
    "\r\n",
    "algebra_ano5 = [\r\n",
    "    \"Relação de igualdade\",\r\n",
    "    \"Razão\",\r\n",
    "    \"Proporção\"\r\n",
    "]\r\n",
    "\r\n",
    "geometria_ano5 = [\r\n",
    "    \"Formas\",\r\n",
    "    \"Area da superficie\",\r\n",
    "    \"Angulos\",\r\n",
    "    \"Triangulos\",\r\n",
    "    \"Classificação de forma geometrica\",\r\n",
    "    \"Congruencia de angulos\"\r\n",
    "]\r\n",
    "\r\n",
    "grandezas_ano5 = [\r\n",
    "    \"Massa e volume\",\r\n",
    "    \"Comprimento\",\r\n",
    "    \"Tempo\",\r\n",
    "    \"Area\",\r\n",
    "    \"Perimetro\",\r\n",
    "    \"Cubos\"\r\n",
    "]\r\n",
    "\r\n",
    "prob_estat_ano5 = [\r\n",
    "    \"Gráficos\",\r\n",
    "    \"Eventos\",\r\n",
    "    \"Pesquisas\"\r\n",
    "]\r\n",
    "\r\n",
    "\r\n",
    "question = [\r\n",
    "    \"Qual sua curiosidade sobre \",\r\n",
    "    \"Você gosta de \",\r\n",
    "    cod_nome+ \" voce conhece sobre \",\r\n",
    "    \"Que tal falarmos sobre \"\r\n",
    "\r\n",
    "]\r\n",
    "\r\n",
    "duvidas = [\r\n",
    "    cod_nome+ \" tens dificuldade em \",\r\n",
    "    cod_nome+ \" sua dificuldade é sobre \",\r\n",
    "    \"Sua dificuldade é em \",\r\n",
    "    cod_nome +\" o tema que está te aterrorizando é \",\r\n",
    "    \"O que te causa aflição é \"\r\n",
    "]\r\n"
   ],
   "outputs": [],
   "metadata": {}
  },
  {
   "cell_type": "code",
   "execution_count": 107,
   "source": [
    "for i in range(0,5):\r\n",
    "    topico = random.choice(topicos)\r\n",
    "    topicos.remove(topico)\r\n",
    "    duvida = random.choice(duvidas)\r\n",
    "    duvidas.remove(duvida)\r\n",
    "    print(duvida + topico + \" ?\")\r\n",
    "    resp = input()\r\n",
    "    if resp == \"sim\":\r\n",
    "        tema =  topico\r\n",
    "        print(\"Beleza! Temos um ponto de partida.\")\r\n",
    "        break\r\n",
    "    else:\r\n",
    "        continue\r\n",
    "print(tema)\r\n"
   ],
   "outputs": [
    {
     "output_type": "stream",
     "name": "stdout",
     "text": [
      "Cyclope tens dificuldade em Probabilidade e Estatistica ?\n",
      "Beleza! Temos um ponto de partida.\n",
      "Probabilidade e Estatistica\n"
     ]
    }
   ],
   "metadata": {}
  },
  {
   "cell_type": "code",
   "execution_count": 108,
   "source": [
    "if tema == \"Números\":\r\n",
    "    assuntos = numeros_ano5\r\n",
    "elif tema == \"Algebra\":\r\n",
    "    assuntos = algebra_ano5\r\n",
    "elif tema == \"Geometria\":\r\n",
    "    assuntos = geometria_ano5\r\n",
    "elif tema == \"Grandezas e Medidas\":\r\n",
    "    assuntos = grandezas_ano5\r\n",
    "else:\r\n",
    "    assuntos = prob_estat_ano5"
   ],
   "outputs": [],
   "metadata": {}
  },
  {
   "cell_type": "code",
   "execution_count": 109,
   "source": [
    "for i in range(0,2):\r\n",
    "    topico = random.choice(assuntos)\r\n",
    "    assuntos.remove(topico)\r\n",
    "    quest = random.choice(question)\r\n",
    "    question.remove(quest)\r\n",
    "    print(quest + topico + \" ?\")\r\n",
    "\r\n",
    "    resp = input()\r\n",
    "    blob = TextBlob(resp)\r\n",
    "    traducao = blob.translate(from_lang='pt',to='en')\r\n",
    "    print(traducao)\r\n",
    "    blob2 = traducao.sentiment\r\n",
    "    print(blob2)\r\n",
    "\r\n",
    "    if blob2.polarity > 0:\r\n",
    "        print(\"Wooou!\" + cod_nome +\" Você ama mesmo \"+ topico)\r\n",
    "    else :\r\n",
    "        print(\"Poxa!\" + cod_nome +\" não curte \"+ topico)\r\n",
    "\r\n",
    "    if blob2.subjectivity > 0.5:\r\n",
    "        print('Então vamos ficar em silecio')\r\n",
    "    if blob2.subjectivity > 0.0:\r\n",
    "        print('Então vamos ficar em silecio sobre ' + topico)\r\n",
    "    else:\r\n",
    "   \r\n",
    "        print(\"Podemos falar sobre outro tema\")\r\n"
   ],
   "outputs": [
    {
     "output_type": "stream",
     "name": "stdout",
     "text": [
      "Cyclope voce conhece sobre Eventos ?\n",
      "a little\n",
      "Sentiment(polarity=-0.1875, subjectivity=0.5)\n",
      "Poxa!Cyclope não curte Eventos\n",
      "Então vamos ficar em silecio sobre Eventos\n",
      "Você gosta de Gráficos ?\n",
      "Yes, a lot\n",
      "Sentiment(polarity=0.0, subjectivity=0.0)\n",
      "Poxa!Cyclope não curte Gráficos\n",
      "Podemos falar sobre outro tema\n"
     ]
    }
   ],
   "metadata": {}
  },
  {
   "cell_type": "code",
   "execution_count": 38,
   "source": [
    "topico = random.choice(topicos)\r\n",
    "quest = random.choice(question)\r\n",
    "print(quest + topico + \" ?\")"
   ],
   "outputs": [
    {
     "output_type": "stream",
     "name": "stdout",
     "text": [
      "Cyclope tens dificuldade em Geometria ?\n"
     ]
    }
   ],
   "metadata": {}
  }
 ],
 "metadata": {
  "orig_nbformat": 4,
  "language_info": {
   "name": "python",
   "version": "3.8.5",
   "mimetype": "text/x-python",
   "codemirror_mode": {
    "name": "ipython",
    "version": 3
   },
   "pygments_lexer": "ipython3",
   "nbconvert_exporter": "python",
   "file_extension": ".py"
  },
  "kernelspec": {
   "name": "python3",
   "display_name": "Python 3.8.5 64-bit"
  },
  "interpreter": {
   "hash": "1632e2ff46af55249cd5fd66d1abca92825625e5a09d68756c5f6be6bda9c5d6"
  }
 },
 "nbformat": 4,
 "nbformat_minor": 2
}