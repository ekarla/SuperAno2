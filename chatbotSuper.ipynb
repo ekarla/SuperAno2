{
  "nbformat": 4,
  "nbformat_minor": 0,
  "metadata": {
    "colab": {
      "name": "chatbotSuper.ipynb",
      "provenance": []
    },
    "kernelspec": {
      "name": "python3",
      "display_name": "Python 3"
    },
    "language_info": {
      "name": "python"
    }
  },
  "cells": [
    {
      "cell_type": "code",
      "metadata": {
        "colab": {
          "base_uri": "https://localhost:8080/"
        },
        "id": "C_QvIBS_-h0K",
        "outputId": "d6affaad-9551-45e7-80bd-29ba152bfd06"
      },
      "source": [
        "!pip install chatterbot"
      ],
      "execution_count": 1,
      "outputs": [
        {
          "output_type": "stream",
          "name": "stdout",
          "text": [
            "Collecting chatterbot\n",
            "  Downloading ChatterBot-1.0.8-py2.py3-none-any.whl (63 kB)\n",
            "\u001b[?25l\r\u001b[K     |█████▏                          | 10 kB 23.9 MB/s eta 0:00:01\r\u001b[K     |██████████▎                     | 20 kB 29.0 MB/s eta 0:00:01\r\u001b[K     |███████████████▌                | 30 kB 13.0 MB/s eta 0:00:01\r\u001b[K     |████████████████████▋           | 40 kB 9.5 MB/s eta 0:00:01\r\u001b[K     |█████████████████████████▊      | 51 kB 5.0 MB/s eta 0:00:01\r\u001b[K     |███████████████████████████████ | 61 kB 5.3 MB/s eta 0:00:01\r\u001b[K     |████████████████████████████████| 63 kB 1.5 MB/s \n",
            "\u001b[?25hRequirement already satisfied: pytz in /usr/local/lib/python3.7/dist-packages (from chatterbot) (2018.9)\n",
            "Collecting sqlalchemy<1.4,>=1.3\n",
            "  Downloading SQLAlchemy-1.3.24-cp37-cp37m-manylinux2010_x86_64.whl (1.3 MB)\n",
            "\u001b[K     |████████████████████████████████| 1.3 MB 11.1 MB/s \n",
            "\u001b[?25hRequirement already satisfied: python-dateutil<2.9,>=2.8 in /usr/local/lib/python3.7/dist-packages (from chatterbot) (2.8.2)\n",
            "Collecting mathparse<0.2,>=0.1\n",
            "  Downloading mathparse-0.1.2-py3-none-any.whl (7.2 kB)\n",
            "Requirement already satisfied: six>=1.5 in /usr/local/lib/python3.7/dist-packages (from python-dateutil<2.9,>=2.8->chatterbot) (1.15.0)\n",
            "Installing collected packages: sqlalchemy, mathparse, chatterbot\n",
            "  Attempting uninstall: sqlalchemy\n",
            "    Found existing installation: SQLAlchemy 1.4.25\n",
            "    Uninstalling SQLAlchemy-1.4.25:\n",
            "      Successfully uninstalled SQLAlchemy-1.4.25\n",
            "Successfully installed chatterbot-1.0.8 mathparse-0.1.2 sqlalchemy-1.3.24\n"
          ]
        }
      ]
    },
    {
      "cell_type": "code",
      "metadata": {
        "colab": {
          "base_uri": "https://localhost:8080/"
        },
        "id": "DfoafIyQ-qWO",
        "outputId": "657c4331-416d-4d72-f3e8-ae2f03f082a6"
      },
      "source": [
        "!pip install ChatterBot-corpus\n",
        "!pip install awscli==1.11.18"
      ],
      "execution_count": 2,
      "outputs": [
        {
          "output_type": "stream",
          "name": "stdout",
          "text": [
            "Collecting ChatterBot-corpus\n",
            "  Downloading chatterbot_corpus-1.2.0-py2.py3-none-any.whl (117 kB)\n",
            "\u001b[?25l\r\u001b[K     |██▉                             | 10 kB 22.1 MB/s eta 0:00:01\r\u001b[K     |█████▋                          | 20 kB 28.4 MB/s eta 0:00:01\r\u001b[K     |████████▍                       | 30 kB 12.1 MB/s eta 0:00:01\r\u001b[K     |███████████▏                    | 40 kB 9.3 MB/s eta 0:00:01\r\u001b[K     |██████████████                  | 51 kB 5.0 MB/s eta 0:00:01\r\u001b[K     |████████████████▊               | 61 kB 5.1 MB/s eta 0:00:01\r\u001b[K     |███████████████████▋            | 71 kB 5.6 MB/s eta 0:00:01\r\u001b[K     |██████████████████████▍         | 81 kB 6.2 MB/s eta 0:00:01\r\u001b[K     |█████████████████████████▏      | 92 kB 4.6 MB/s eta 0:00:01\r\u001b[K     |████████████████████████████    | 102 kB 5.0 MB/s eta 0:00:01\r\u001b[K     |██████████████████████████████▊ | 112 kB 5.0 MB/s eta 0:00:01\r\u001b[K     |████████████████████████████████| 117 kB 5.0 MB/s \n",
            "\u001b[?25hRequirement already satisfied: PyYAML<4.0,>=3.12 in /usr/local/lib/python3.7/dist-packages (from ChatterBot-corpus) (3.13)\n",
            "Installing collected packages: ChatterBot-corpus\n",
            "Successfully installed ChatterBot-corpus-1.2.0\n",
            "Collecting awscli==1.11.18\n",
            "  Downloading awscli-1.11.18-py2.py3-none-any.whl (1.0 MB)\n",
            "\u001b[K     |████████████████████████████████| 1.0 MB 5.1 MB/s \n",
            "\u001b[?25hCollecting colorama<=0.3.7,>=0.2.5\n",
            "  Downloading colorama-0.3.7-py2.py3-none-any.whl (19 kB)\n",
            "Collecting botocore==1.4.75\n",
            "  Downloading botocore-1.4.75-py2.py3-none-any.whl (2.8 MB)\n",
            "\u001b[K     |████████████████████████████████| 2.8 MB 37.4 MB/s \n",
            "\u001b[?25hCollecting rsa<=3.5.0,>=3.1.2\n",
            "  Downloading rsa-3.4.2-py2.py3-none-any.whl (46 kB)\n",
            "\u001b[K     |████████████████████████████████| 46 kB 3.9 MB/s \n",
            "\u001b[?25hCollecting s3transfer<0.2.0,>=0.1.9\n",
            "  Downloading s3transfer-0.1.13-py2.py3-none-any.whl (59 kB)\n",
            "\u001b[K     |████████████████████████████████| 59 kB 5.1 MB/s \n",
            "\u001b[?25hRequirement already satisfied: docutils>=0.10 in /usr/local/lib/python3.7/dist-packages (from awscli==1.11.18) (0.17.1)\n",
            "Collecting jmespath<1.0.0,>=0.7.1\n",
            "  Downloading jmespath-0.10.0-py2.py3-none-any.whl (24 kB)\n",
            "Requirement already satisfied: python-dateutil<3.0.0,>=2.1 in /usr/local/lib/python3.7/dist-packages (from botocore==1.4.75->awscli==1.11.18) (2.8.2)\n",
            "Requirement already satisfied: six>=1.5 in /usr/local/lib/python3.7/dist-packages (from python-dateutil<3.0.0,>=2.1->botocore==1.4.75->awscli==1.11.18) (1.15.0)\n",
            "Requirement already satisfied: pyasn1>=0.1.3 in /usr/local/lib/python3.7/dist-packages (from rsa<=3.5.0,>=3.1.2->awscli==1.11.18) (0.4.8)\n",
            "Installing collected packages: jmespath, botocore, s3transfer, rsa, colorama, awscli\n",
            "  Attempting uninstall: rsa\n",
            "    Found existing installation: rsa 4.7.2\n",
            "    Uninstalling rsa-4.7.2:\n",
            "      Successfully uninstalled rsa-4.7.2\n",
            "Successfully installed awscli-1.11.18 botocore-1.4.75 colorama-0.3.7 jmespath-0.10.0 rsa-3.4.2 s3transfer-0.1.13\n"
          ]
        }
      ]
    },
    {
      "cell_type": "code",
      "metadata": {
        "id": "Sma7OmNJ-vuM"
      },
      "source": [
        "from chatterbot import ChatBot\n",
        "from chatterbot.trainers import ChatterBotCorpusTrainer\n",
        "from chatterbot.trainers import ListTrainer"
      ],
      "execution_count": 7,
      "outputs": []
    },
    {
      "cell_type": "code",
      "metadata": {
        "id": "HurEst98-7GH"
      },
      "source": [
        "#Iniciando o objto bot\n",
        "bot = ChatBot('Ferretito')\n",
        "\n",
        "#Criando o banco SQL\n",
        "bot = ChatBot(\n",
        "    'Ferretito',\n",
        "    storage_adapter='chatterbot.storage.SQLStorageAdapter',\n",
        "    database_uri='sqlite:///database.sqlite3'\n",
        "    \n",
        ")\n",
        "\n",
        "#Criando uma lógica para o bot\n",
        "bot = ChatBot(\n",
        "    'Ferretito',  \n",
        "    logic_adapters=[\n",
        "        'chatterbot.logic.BestMatch', 'chatterbot.logic.MathematicalEvaluation'],\n",
        ")"
      ],
      "execution_count": 11,
      "outputs": []
    },
    {
      "cell_type": "code",
      "metadata": {
        "colab": {
          "base_uri": "https://localhost:8080/"
        },
        "id": "1ECvfSdp_sfT",
        "outputId": "40d61b4f-9467-4efa-ee16-f4c8ec9d75be"
      },
      "source": [
        "#chamando biblioteca corpus na lingua portuguesa\n",
        "dialogo = ChatterBotCorpusTrainer(bot)\n",
        "dialogo.train('chatterbot.corpus.portuguese')"
      ],
      "execution_count": 12,
      "outputs": [
        {
          "output_type": "stream",
          "name": "stdout",
          "text": [
            "Training compliment.yml: [####################] 100%\n",
            "Training conversations.yml: [####################] 100%\n",
            "Training greetings.yml: [####################] 100%\n",
            "Training linguistic_knowledge.yml: [####################] 100%\n",
            "Training proverbs.yml: [####################] 100%\n",
            "Training suggestions.yml: [####################] 100%\n",
            "Training trivia.yml: [####################] 100%\n",
            "Training unilab.yml: [####################] 100%\n"
          ]
        }
      ]
    },
    {
      "cell_type": "code",
      "metadata": {
        "colab": {
          "base_uri": "https://localhost:8080/"
        },
        "id": "oDKVRA_RABJb",
        "outputId": "3b4f88d6-c2de-4d7d-8c62-44b1afbbf239"
      },
      "source": [
        "\n",
        "dialogo = ListTrainer(bot)\n",
        "dialogo.train([\n",
        "    'Oi?', \n",
        "    'Eae, tudo certo?',\n",
        "    'Você gosta de videogame?', \n",
        "    'Eu sou um bot, eu só apelo.',\n",
        "    'Qual o seu personagem favorito?', \n",
        "    'Gandalf, o mago.',\n",
        "    'Qual a sua bebida favorita?', \n",
        "    'Eu bebo café, o motor de todos os programas de computador.',\n",
        "    'Qual o seu gênero?', \n",
        "    'Sou um chatbot e gosto de algoritmos',\n",
        "    'Conte uma história', \n",
        "    'Tudo começou com a forja dos Grandes Aneis. Três foram dados aos Elfos, imortais... os mais sabios e belos de todos os seres. Sete, aos Senhores-Anões...',\n",
        "    'Você gosta de trivias?', 'Sim, o que você quer perguntar?',\n",
        "    'Hahahaha', 'kkkk',\n",
        "    'kkk', 'kkkk',\n",
        "    'Conhece a Siri?', 'Conheço, a gente saiu por um tempo.',\n",
        "    'Conhece a Alexa?', 'Ela nunca deu bola pra mim.',\n",
        "    'Você gosta de Game of Thrones?', 'Dracarys',\n",
        "    'O que você faz?', 'Eu bebo e sei das coisas',\n",
        "    'Errado', 'Você não sabe de nada, John Snow.'\n",
        "    ])"
      ],
      "execution_count": 13,
      "outputs": [
        {
          "output_type": "stream",
          "name": "stdout",
          "text": [
            "List Trainer: [####################] 100%\n"
          ]
        }
      ]
    },
    {
      "cell_type": "code",
      "metadata": {
        "colab": {
          "base_uri": "https://localhost:8080/"
        },
        "id": "0BFwXqhSBL9i",
        "outputId": "2aee9fe3-7817-499b-b582-e87785ce85c0"
      },
      "source": [
        "while True:\n",
        "    try:\n",
        "        resposta = bot.get_response(input(\"Usuário: \"))\n",
        "        if float(resposta.confidence) > 0.2:\n",
        "            print(\"Ferretito: \", resposta)\n",
        "        else:\n",
        "            print(\"Não manjo dessas paradas :(\")\n",
        "    except(KeyboardInterrupt, EOFError, SystemExit):\n",
        "        break"
      ],
      "execution_count": 15,
      "outputs": [
        {
          "output_type": "stream",
          "name": "stdout",
          "text": [
            "Usuário: gosta de video game?\n",
            "Ferretito:  sim, eu sei\n",
            "Usuário: Qual o seu personagem favorito?\n",
            "Ferretito:  Gandalf, o mago.\n",
            "Usuário: tambem gosto dele\n",
            "Não manjo dessas paradas :(\n"
          ]
        }
      ]
    }
  ]
}